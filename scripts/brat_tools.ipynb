{
 "cells": [
  {
   "cell_type": "code",
   "execution_count": null,
   "metadata": {
    "ExecuteTime": {
     "end_time": "2017-02-19T22:26:15.536120",
     "start_time": "2017-02-19T22:26:15.526495"
    },
    "collapsed": true,
    "deletable": true,
    "editable": true
   },
   "outputs": [],
   "source": [
    "import sys\n",
    "sys.path.append('../libs/')\n",
    "\n",
    "import os"
   ]
  },
  {
   "cell_type": "code",
   "execution_count": null,
   "metadata": {
    "ExecuteTime": {
     "end_time": "2017-02-19T23:02:24.985888",
     "start_time": "2017-02-19T23:02:24.948003"
    },
    "collapsed": true,
    "deletable": true,
    "editable": true
   },
   "outputs": [],
   "source": [
    "def make_visual_conf(main_index, role_index, colors = {'red', 'blue', '#f0a105'}):\n",
    "    basic_conf = \\\n",
    "u'''\n",
    "[labels]\n",
    "\n",
    "{}\n",
    "\n",
    "[drawing]\n",
    "\n",
    "Arg fgColor:black, bgColor:#FF7070, borderColor:darken\n",
    "Pred fgColor:black, bgColor:lightgreen, borderColor:darken\n",
    "\n",
    "{}\n",
    "\n",
    "'''\n",
    "    full_index = {}\n",
    "    for e in role_index.iteritems():\n",
    "        full_index.update(e[1])\n",
    "    full_index.update(main_index)\n",
    "\n",
    "    roles = unicode()\n",
    "    for role_str, role_real_name in full_index.iteritems():\n",
    "        roles += u'{} | {}\\n'.format(role_str, role_real_name)\n",
    "    \n",
    "    bad_roles_str = u''\n",
    "    for (_, role_indexes), color in zip(role_index.iteritems(), colors):\n",
    "        for role, _ in role_indexes.iteritems():\n",
    "            bad_roles_str += u'{}\\tcolor:{}, dashArray:-, arrowHead:triangle-5\\n'.format(role, color)\n",
    "    \n",
    "    return basic_conf.format(roles, bad_roles_str).encode('utf8') \n",
    "\n",
    "\n",
    "def make_annotations_conf(role_index):\n",
    "    basic_conf = \\\n",
    "u'''\n",
    "[entities]\n",
    "\n",
    "Arg\n",
    "Pred\n",
    "\n",
    "[attributes]\n",
    "\n",
    "[relations]\n",
    "\n",
    "{}\n",
    "\n",
    "\n",
    "[events]\n",
    "\n",
    "'''\n",
    "\n",
    "    roles = str()\n",
    "    for role_name, _ in sorted(role_index.iteritems(), key = lambda e: e[0]):\n",
    "        roles += u'{} Arg1:Pred, Arg2:Arg\\n'.format(role_name)\n",
    "    \n",
    "    return basic_conf.format(roles).encode('utf8')"
   ]
  },
  {
   "cell_type": "code",
   "execution_count": null,
   "metadata": {
    "ExecuteTime": {
     "end_time": "2017-02-19T23:03:54.775331",
     "start_time": "2017-02-19T23:03:54.516522"
    },
    "collapsed": false,
    "deletable": true,
    "editable": true
   },
   "outputs": [],
   "source": [
    "import shutil\n",
    "import json\n",
    "from pylingtools.format_brat import load_brat_annotation_dir, save_list_of_brat_objects\n",
    "from pylingtools.format_brat import BratRealtion\n",
    "\n",
    "\n",
    "def load_brat_annotation_dir_recur(input_dir_path):\n",
    "    result = {}\n",
    "    for file_dir in os.listdir(input_dir_path):\n",
    "        true_path = os.path.join(input_dir_path, file_dir)\n",
    "        if not os.path.isdir(true_path):\n",
    "            continue\n",
    "        \n",
    "        data = load_brat_annotation_dir(true_path)\n",
    "        result.update({file_dir + '/' + d :v for d, v in data.iteritems()})\n",
    "    \n",
    "    return result\n",
    "\n",
    "\n",
    "def load_role_index(path):\n",
    "    with open(path, 'r') as f:\n",
    "        role_index = json.load(f)\n",
    "    \n",
    "    reversed_index = {'Role_' + str(v): k for k, v in role_index.iteritems()} \n",
    "    return reversed_index\n",
    "\n",
    "        \n",
    "def process_part(num, part_path, main_ann):\n",
    "    path_ann = load_brat_annotation_dir_recur(part_path)\n",
    "    role_index = load_role_index(os.path.join(part_path, 'rel_name_index.json'))\n",
    "    sub_annots = {}\n",
    "    new_role_index = {}\n",
    "    for int_path, vals in path_ann.iteritems():\n",
    "        offset_index = main_ann[int_path]['offset_index']\n",
    "        ents, rels = vals['entities'], vals['relations']\n",
    "        loc_offset_index = {}\n",
    "        for ent in ents:\n",
    "            loc_offset_index[ent.bid] = (ent.begin, ent.end)\n",
    "\n",
    "        annots = list()\n",
    "        for rel in rels:\n",
    "            if not role_index[rel.tp].startswith('false'):\n",
    "                continue\n",
    "\n",
    "            old_name = role_index[rel.tp]\n",
    "            new_rel = rel\n",
    "            new_rel.dep = offset_index[loc_offset_index[rel.dep]]\n",
    "            new_rel.head = offset_index[loc_offset_index[rel.head]]\n",
    "            new_rel.tp = 'false_' + str(num) + '_' + new_rel.tp\n",
    "            #print rel.tp\n",
    "            new_role_index[new_rel.tp] = old_name\n",
    "            annots.append(new_rel)\n",
    "\n",
    "        sub_annots[int_path] = annots\n",
    "    \n",
    "    return sub_annots, new_role_index\n",
    "\n",
    "\n",
    "def process_main_rels(main_path):\n",
    "    main_ann = load_brat_annotation_dir_recur(main_path)\n",
    "    \n",
    "    reversed_index = load_role_index(os.path.join(main_path, 'rel_name_index.json'))\n",
    "        \n",
    "    new_main_ann = {}\n",
    "    for mpath, anns in main_ann.iteritems():\n",
    "        main_ents, main_rels = anns['entities'], anns['relations']\n",
    "        \n",
    "        offset_index = {}\n",
    "        for ent in main_ents:\n",
    "            offset_index[(ent.begin, ent.end)] = ent.bid\n",
    "    \n",
    "        new_main_rels = list()\n",
    "        for rel in main_rels:\n",
    "            if reversed_index[rel.tp].startswith('false'):\n",
    "                continue\n",
    "\n",
    "            new_main_rels.append(rel)\n",
    "    \n",
    "        main_rels = new_main_rels\n",
    "        new_main_ann[mpath] = {'entities' : main_ents, \n",
    "                               'relations' : main_rels,\n",
    "                              'offset_index' : offset_index}\n",
    "    \n",
    "    return new_main_ann, reversed_index\n",
    "        \n",
    "\n",
    "def merge_annotations(dir_path_list, output_dir_path):\n",
    "    main_path = dir_path_list[0]\n",
    "    shutil.copytree(main_path, output_dir_path)\n",
    "    \n",
    "    main_ann, main_role_index = process_main_rels(main_path)\n",
    "    \n",
    "    sub_annots = {}\n",
    "    for num, path in enumerate(dir_path_list):\n",
    "        ann = process_part(num, path, main_ann)\n",
    "        sub_annots[path] = ann\n",
    "    \n",
    "    result = {}\n",
    "    role_index = {path : e[1] for path, e in sub_annots.iteritems()}\n",
    "    annot_index = {path : e[0] for path, e in sub_annots.iteritems()}\n",
    "    for file_path, main_annots in main_ann.iteritems():\n",
    "        main_entities, main_rels = main_annots['entities'], main_annots['relations']\n",
    "        all_annots = main_rels\n",
    "        \n",
    "        rel_id = max(int(rel.bid) for rel in main_rels)\n",
    "        \n",
    "        for path, annots in annot_index.iteritems():\n",
    "            rel_annots = annots[file_path]\n",
    "            \n",
    "            for rel in rel_annots:\n",
    "                rel_id += 1\n",
    "                rel.bid = rel_id\n",
    "                all_annots.append(rel)\n",
    "            \n",
    "        result[file_path] = (main_entities, all_annots)\n",
    "    \n",
    "    \n",
    "        \n",
    "    for file_path, annots in result.iteritems():\n",
    "        output_file_path = os.path.join(output_dir_path, file_path + '.ann')\n",
    "        save_list_of_brat_objects(annots[0] + annots[1], output_file_path)\n",
    "    \n",
    "    with open(os.path.join(output_dir_path, 'visual.conf'), 'w') as f:\n",
    "        f.write(make_visual_conf(main_role_index, role_index))\n",
    "    \n",
    "    full_index = {}\n",
    "    for e in role_index.iteritems():\n",
    "        full_index.update(e[1])\n",
    "    \n",
    "    full_index.update(main_role_index)\n",
    "    \n",
    "    with open(os.path.join(output_dir_path, 'annotation.conf'), 'w') as f:\n",
    "        f.write(make_annotations_conf(full_index))\n",
    "    "
   ]
  },
  {
   "cell_type": "code",
   "execution_count": null,
   "metadata": {
    "ExecuteTime": {
     "end_time": "2017-02-19T23:00:08.740725",
     "start_time": "2017-02-19T22:59:59.238589"
    },
    "collapsed": false,
    "deletable": true,
    "editable": true
   },
   "outputs": [],
   "source": [
    "!export PYTHONPATH=\"$PYTHONPATH:../libs/\" && python ../libs/framebank_preprocessing/convert_corpus_to_brat.py \\\n",
    "--inputFile=../data/test_data_annotated_with_no_pred_lemma.json \\\n",
    "--outputDir=../data/brat/test_data_annotated_with_no_pred_lemma/ \\\n",
    "--converter=srl"
   ]
  },
  {
   "cell_type": "code",
   "execution_count": null,
   "metadata": {
    "collapsed": true,
    "deletable": true,
    "editable": true
   },
   "outputs": [],
   "source": [
    "!export PYTHONPATH=\"$PYTHONPATH:../libs/\" && python ../libs/framebank_preprocessing/convert_corpus_to_brat.py \\\n",
    "--inputFile=../data/test_data_annotated_1.json \\\n",
    "--outputDir=../data/brat/test_data_annotated_srl_1/ \\\n",
    "--converter=srl"
   ]
  },
  {
   "cell_type": "code",
   "execution_count": null,
   "metadata": {
    "collapsed": true,
    "deletable": true,
    "editable": true
   },
   "outputs": [],
   "source": [
    "!export PYTHONPATH=\"$PYTHONPATH:../libs/\" && python ../libs/framebank_preprocessing/convert_corpus_to_brat.py \\\n",
    "--inputFile=../data/test_data_annotated_1.json \\\n",
    "--outputDir=../data/brat/test_data_annotated_syn_1 \\\n",
    "--converter=syn"
   ]
  },
  {
   "cell_type": "code",
   "execution_count": null,
   "metadata": {
    "ExecuteTime": {
     "end_time": "2017-02-19T23:03:57.799725",
     "start_time": "2017-02-19T23:03:55.816876"
    },
    "collapsed": false,
    "deletable": true,
    "editable": true
   },
   "outputs": [],
   "source": [
    "input_dir_path = [\"../data/brat/test_data_annotated_with_simple\", \n",
    "                  \"../data/brat/test_data_annotated_with_complex\",\n",
    "                  \"../data/brat/test_data_annotated_with_no_pred_lemma\"]\n",
    "output_dir_path = \"../data/brat_result/\"\n",
    "merge_annotations(input_dir_path, output_dir_path)"
   ]
  }
 ],
 "metadata": {
  "kernelspec": {
   "display_name": "Python 2",
   "language": "python",
   "name": "python2"
  },
  "language_info": {
   "codemirror_mode": {
    "name": "ipython",
    "version": 2
   },
   "file_extension": ".py",
   "mimetype": "text/x-python",
   "name": "python",
   "nbconvert_exporter": "python",
   "pygments_lexer": "ipython2",
   "version": "2.7.12"
  },
  "toc": {
   "colors": {
    "hover_highlight": "#DAA520",
    "running_highlight": "#FF0000",
    "selected_highlight": "#FFD700"
   },
   "moveMenuLeft": true,
   "nav_menu": {
    "height": "11px",
    "width": "251px"
   },
   "navigate_menu": true,
   "number_sections": true,
   "sideBar": true,
   "threshold": 4,
   "toc_cell": false,
   "toc_section_display": "block",
   "toc_window_display": false
  }
 },
 "nbformat": 4,
 "nbformat_minor": 2
}
